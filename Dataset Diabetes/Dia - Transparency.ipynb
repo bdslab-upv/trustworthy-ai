{
 "cells": [
  {
   "attachments": {
    "bdslab.png": {
     "image/png": "[encoded data removed]"
    }
   },
   "cell_type": "markdown",
   "id": "e33a8cf0",
   "metadata": {},
   "source": [
    "# TRUSTWORTHY AI: Transparency Requirement\n",
    "\n",
    "#### Script to ensure the Transparency requirement for a dataset. Based on EU guidelines.\n",
    "![bdslab.png](attachment:bdslab.png)"
   ]
  },
  {
   "cell_type": "markdown",
   "id": "7ee13ae9",
   "metadata": {},
   "source": [
    "\n",
    "## TABLE OF CONTENTS:\n",
    "\n",
    "<div class=\"alert\" style=\"margin-top: 20px\">\n",
    "\n",
    "1. [Data preparation](#data-preparation)<br>\n",
    "1.1. [Data pre-processing](#data-pre-processing)<br>\n",
    "\n",
    "2. [Model Development](#model-development)<br>\n",
    "2.1. [Design](#design)<br>\n",
    "2.2. [Training and Evaluation](#training-evaluation)<br>\n",
    "3. [Deployment and Use](#deployment-use)<br>\n",
    "4. [Management](#management)<br>\n",
    "4.1. [Documentation](#documentation)<br>\n",
    "4.3. [Cooperation and Incident Sharing](#cooperation-and-sharing)<br>\n",
    "</div>\n"
   ]
  },
  {
   "cell_type": "markdown",
   "id": "3a647a1f-a18d-43ac-b783-7e1eed142e4d",
   "metadata": {},
   "source": [
    "The key requirement of transparency covers three main concepts:\n",
    "\n",
    "* **Traceability:** documenting processes to identify the reasons why a decision was wrong and to prevent future failuress.\n",
    "*  **Explainability:** explain both the AI's technical processes and the associated human decision the AI decision must to be understable by a human.\n",
    "*  **Communication:** convey the capabilities and limitations to the end users."
   ]
  },
  {
   "cell_type": "markdown",
   "id": "47ca883b-c148-4773-ab57-920e09593c26",
   "metadata": {},
   "source": [
    "We start by preparing the working environment. Import all the necessary libraries."
   ]
  },
  {
   "cell_type": "code",
   "execution_count": null,
   "id": "36cbaa8b-f302-45b8-85d7-37b984388af9",
   "metadata": {},
   "outputs": [],
   "source": [
    "import shap\n",
    "import seaborn as sns\n",
    "from datetime import datetime\n",
    "\n",
    "import pandas as pd\n",
    "import numpy as np\n",
    "import matplotlib.pyplot as plt\n",
    "import plotly.graph_objects as go\n",
    "import plotly.subplots as sp\n",
    "import math\n",
    "\n",
    "from sklearn.model_selection import train_test_split\n",
    "from sklearn.preprocessing import label_binarize, LabelEncoder\n",
    "from sklearn.linear_model import LogisticRegression\n",
    "from sklearn.ensemble import RandomForestClassifier\n",
    "from sklearn.metrics import confusion_matrix, roc_curve, auc, classification_report\n",
    "\n",
    "from functions.NaiveBayesMixed import NaiveBayesMixed\n",
    "from functions.handleData import handleData"
   ]
  },
  {
   "cell_type": "markdown",
   "id": "d8c8f0a0",
   "metadata": {},
   "source": [
    "Load the dataset and define Metadata"
   ]
  },
  {
   "cell_type": "code",
   "execution_count": null,
   "id": "4972ade0-8c77-4e54-b799-d39dd5c53579",
   "metadata": {},
   "outputs": [],
   "source": [
    "path = 'C:\\\\Users\\\\carlo\\\\OneDrive - UPV\\\\ESCRITORIO CARLOS\\\\UPV\\\\BECA COLABORACIÓN\\\\Datasets\\\\Diabetes\\\\' \n",
    "file_name = 'dataset_train_diabetes_QC.csv'\n",
    "data = pd.read_csv(path + file_name)\n",
    "\n",
    "# Create a subset to work more efficiently\n",
    "# data = data.sample(frac = 0.2, random_state=100) "
   ]
  },
  {
   "cell_type": "code",
   "execution_count": null,
   "id": "170e6dff-a67d-42fb-8207-e2e2f4dc427b",
   "metadata": {},
   "outputs": [],
   "source": [
    "# Define Metadata\n",
    "dataset = data\n",
    "output = \"readmitted\"\n",
    "positive_class = \"<30\"\n",
    "feat_id = [\"encounter_id\",\"patient_nbr\"]\n",
    "feat_sensitive = [\"race\",\"gender\"]\n",
    "feat_types = {\n",
    "    \"race\": \"categorical\",\n",
    "    \"gender\": \"categorical\",\n",
    "    \"age\": \"numerical\",\n",
    "    # \"weight\": \"categorical\",\n",
    "    \"admission_type\": \"categorical\",\n",
    "    \"discharge_disposition\": \"categorical\",\n",
    "    \"admission_source\": \"categorical\",\n",
    "    \"time_in_hospital\": \"numerical\",\n",
    "    # \"payer_code\": \"categorical\",\n",
    "    # \"medical_specialty\": \"categorical\",\n",
    "    \"num_lab_procedures\":\"numerical\",\n",
    "    \"num_procedures\":\"numerical\",\n",
    "    \"num_medications\":\"numerical\",\n",
    "    \"number_outpatient\":\"numerical\",\n",
    "    \"number_emergency\":\"numerical\",\n",
    "    \"number_inpatient\":\"numerical\",\n",
    "    \"diag_1\": \"categorical\",\n",
    "    \"diag_2\": \"categorical\",\n",
    "    \"diag_3\": \"categorical\",\n",
    "    \"number_diagnoses\": \"numerical\",\n",
    "    \"change\": \"categorical\", \n",
    "    \"diabetesMed\": \"categorical\",\n",
    "}\n",
    "feat2balance = [\"race\"]\n",
    "data_provenance = \"A Health Facts database that represents 10 years (1999-2008) of clininical care at 130 hospitals in United States.\""
   ]
  },
  {
   "cell_type": "code",
   "execution_count": null,
   "id": "1de40dc1-b1f2-4f50-ac1b-07711a6abe43",
   "metadata": {},
   "outputs": [],
   "source": [
    "# ### Uncomment only if you want to binarise a multi-class classification problem ###\n",
    "# if positive_class:\n",
    "#     dataset[output] = pd.Series(np.where(dataset[output] == positive_class, 1, 0), index=dataset[output].index, name=output)\n",
    "\n",
    "features_df = dataset.drop(output,axis=1)\n",
    "tags_df = dataset[output] \n",
    "\n",
    "unique_classes = np.unique(tags_df)\n",
    "n_classes = len(unique_classes)\n",
    "feat_num = [col for col, type in feat_types.items() if type == \"numerical\"]\n",
    "feat_cat = [col for col, type in feat_types.items() if type == \"categorical\"]\n",
    "feature_names = features_df.columns\n",
    "\n",
    "handleData = handleData(feat_num, feat_cat)"
   ]
  },
  {
   "cell_type": "markdown",
   "id": "3b44dca2",
   "metadata": {},
   "source": [
    "## 1. DATA PREPARATION <a class=\"anchor\" id=\"data-preparation\"></a>\n",
    "\n",
    "### 1.1. Data Pre-processing: <a class=\"anchor\" id=\"pre-processing\"></a>\n",
    "To ensure the principle of transparency, it is important to study the data provenance as it is collected (`Data provenance`). Registering data lineage increases transparecny and reproducibility while mitigating any poisoned data.\n",
    "\n",
    "We look to see if the inicial metadata comntains any information about the provenance of the data.data provenance information."
   ]
  },
  {
   "cell_type": "code",
   "execution_count": null,
   "id": "eecdcfcd",
   "metadata": {},
   "outputs": [],
   "source": [
    "if data_provenance:\n",
    "    print(\"The following data provenance information has been provided to increase the transparency of your model:\")\n",
    "    print(data_provenance)\n",
    "else:\n",
    "    print(\"Data provenance is empty.\")"
   ]
  },
  {
   "cell_type": "markdown",
   "id": "25d7c135-8f94-4a13-a994-8b052decfa18",
   "metadata": {},
   "source": [
    "It might be interesting to add a descriptive plot to the data pre-processing stage to analyse the intrinsic relationships between the features (`General exploratory analysis`). It is a little complicated to compare numerical and categorical features, but a correct way to do this for numerical features might be to use a correlation matrix. We offer to visualise this in the form of a 'heat map' or 'pair plot':"
   ]
  },
  {
   "cell_type": "code",
   "execution_count": null,
   "id": "0c98385c-d72a-4b8e-82f4-bd49438628ba",
   "metadata": {},
   "outputs": [],
   "source": [
    "# Calculate numerical correlation matrix\n",
    "corr_num = dataset[feat_num].corr()\n",
    "mask = np.triu(np.ones_like(corr_num, dtype=bool)) # A mask to hide the upper right part of the matrix (it is duplicated)\n",
    "\n",
    "plt.figure(figsize=(7, 5))\n",
    "sns.heatmap(corr_num.iloc[1:, :-1], mask=mask[1:, :-1], annot=True, fmt=\".2f\", cmap=\"cividis\")\n",
    "plt.title('Correlation Matrix Heat Map')\n",
    "plt.xticks(rotation=45)\n",
    "plt.show()"
   ]
  },
  {
   "cell_type": "code",
   "execution_count": null,
   "id": "c347aa61-84f2-41a6-865b-a58634fc0690",
   "metadata": {},
   "outputs": [],
   "source": [
    "sns.set(style=\"white\")\n",
    "\n",
    "sns.pairplot(dataset[feat_num + [output]], kind=\"scatter\", plot_kws={\"alpha\": 0.2}, diag_kind='kde', corner=True, hue=output, palette='husl')\n",
    "plt.tight_layout()\n",
    "plt.show()"
   ]
  },
  {
   "cell_type": "markdown",
   "id": "584b2325-1fc2-4297-8625-5de1baac1876",
   "metadata": {},
   "source": [
    "Similarly, in order to identify possible correlations between categorical features and tags, it might be useful to display a bar chart such as the following:"
   ]
  },
  {
   "cell_type": "code",
   "execution_count": null,
   "id": "5c74ac29",
   "metadata": {},
   "outputs": [],
   "source": [
    "num_rows = math.ceil(len(feat_cat) / 3)\n",
    "\n",
    "fig, axes = plt.subplots(num_rows, 3, figsize=(18, 6*num_rows))\n",
    "\n",
    "# Show histogram of sensitive features by its categories\n",
    "for i, feat in enumerate(feat_cat):\n",
    "    row = i // 3\n",
    "    column = i % 3\n",
    "    ax = axes[row, column]\n",
    "\n",
    "    sensitive_counts = features_df[feat].value_counts()\n",
    "    var_type = feat_types[feat]\n",
    "\n",
    "    unique_categories = sensitive_counts.index\n",
    "    n_values = sensitive_counts.values\n",
    "\n",
    "    # Count the number of instances per class for each category\n",
    "    count_cat = {}\n",
    "    for category in unique_categories:\n",
    "        tags_cat = np.array(tags_df[features_df[feat] == category].squeeze())\n",
    "        if tags_cat.size > 0:\n",
    "            total_instances = tags_cat.size\n",
    "            for classes in unique_classes:\n",
    "                category_count = (tags_cat == classes).sum()\n",
    "                count_cat[(classes, category)] = category_count / total_instances  # Normalize the count\n",
    "\n",
    "    # Reorganize the data for DataFrame construction\n",
    "    class_values = {cls: [count_cat.get((cls, category), 0) for category in unique_categories] for cls in unique_classes}\n",
    "\n",
    "    stacked_heights_df = pd.DataFrame(class_values, index=unique_categories)\n",
    "    stacked_heights_df.plot(kind='bar', stacked=True, ax=ax)\n",
    "    \n",
    "    ax.set_xlabel('Categories', fontsize=12)\n",
    "    ax.set_ylabel('Percentage by class', fontsize=10)\n",
    "    ax.legend(unique_classes, title=output, loc='upper right', title_fontsize='medium', prop={'size': 10})\n",
    "    ax.set_title(f'Percentage of instances per class in \"{feat.upper()}\"', fontsize=12, weight='bold')\n",
    "    ax.tick_params(axis='x', labelrotation=60, labelsize=10)\n",
    "    ax.tick_params(axis='y', labelsize=10)\n",
    "\n",
    "# Hide unused subplots\n",
    "for i in range(len(feat_cat), num_rows * 3):\n",
    "    row = i // 3\n",
    "    column = i % 3\n",
    "    fig.delaxes(axes[row, column])\n",
    "\n",
    "plt.tight_layout(rect=[0, 0.03, 1, 0.95])\n",
    "plt.show()\n"
   ]
  },
  {
   "cell_type": "markdown",
   "id": "4ef65e88",
   "metadata": {},
   "source": [
    "## 2. MODEL DEVELOPMENT <a class=\"anchor\" id=\"model-development\"></a>\n",
    "\n",
    "### 2.1. Design: <a class=\"anchor\" id=\"design\"></a>\n",
    "\n",
    "`Describe design steps:`\n",
    "Two example models are proposed: Naive Bayes and Random Forest. Appropriate preprocessing has been incorporated. The categorical columns are coded by a dummy variable using 'OneHotEncoder'. Then the classification method is selected. In addition, the tags are encoded using Label Encoder. Then the dataset is randomly divided into a test subset with 20% of the data and a training subset with the rest. In this case, no feature selection or dimensionality reduction method is proposed. Consequently, the models will be obtained from all the features except the identifying ones."
   ]
  },
  {
   "cell_type": "code",
   "execution_count": null,
   "id": "41af7e86-689d-45e8-9d2d-3e6b22bc8060",
   "metadata": {},
   "outputs": [],
   "source": [
    "features_df_encoded, feature_names_encoded, feat_cat_encoded = handleData.encode(features_df)\n",
    "\n",
    "# Encode Tags \n",
    "if not np.issubdtype(tags_df.dtype, np.number):\n",
    "    encoderLabel = LabelEncoder()\n",
    "    tags_df_encoded = encoderLabel.fit_transform(tags_df)\n",
    "    tags_df_encoded = pd.Series(tags_df_encoded, index=tags_df.index, name=tags_df.name)\n",
    "\n",
    "    tags_df_mapping = {label: code for code, label in enumerate(encoderLabel.classes_)} # Dictionary with the code reference for each class\n",
    "    unique_classes_enc = np.unique(tags_df_encoded)\n",
    "    print('Dictionary of tags: ', tags_df_mapping)\n",
    "else:\n",
    "    tags_df_encoded, unique_classes_enc  = tags_df, unique_classes\n",
    "\n",
    "feat_train, feat_test, tags_train, tags_test = train_test_split(features_df_encoded, tags_df_encoded, test_size=0.2, random_state = 1)\n"
   ]
  },
  {
   "cell_type": "markdown",
   "id": "a6475065-d252-490a-8211-ebd9f3d14796",
   "metadata": {},
   "source": [
    "### 2.2. Training and Evaluation: <a class=\"anchor\" id=\"training-evaluation\"></a>\n"
   ]
  },
  {
   "cell_type": "markdown",
   "id": "c07bd810",
   "metadata": {},
   "source": [
    "#### RANDOM FOREST MODEL:\n",
    "Random Forest model from scikit-learn. As defined by the library, the model is a meta estimator that fits a number of decision tree classifiers on various sub-samples of the dataset and uses averaging to improve the predictive accuracy and control over-fitting. In particular, this model is formed by 100 trees. "
   ]
  },
  {
   "cell_type": "code",
   "execution_count": null,
   "id": "9ee648c7-d76d-4a6a-8f43-bc7a25afeb1f",
   "metadata": {},
   "outputs": [],
   "source": [
    "model_RandomForest = RandomForestClassifier(n_estimators=100, random_state=1)\n",
    "\n",
    "model_RandomForest.fit(feat_train, tags_train) \n",
    "tags_pred = model_RandomForest.predict(feat_test)\n",
    "report = classification_report(tags_test, tags_pred, zero_division=1)\n",
    "\n",
    "print(\"Classification Report:\\n\",report)"
   ]
  },
  {
   "cell_type": "markdown",
   "id": "59226413-dd17-4ae0-8e6d-3be3d6b9e41e",
   "metadata": {},
   "source": [
    "Particular graphics such as plot-tree are beneficial for transparency in black box models such as the one in the study."
   ]
  },
  {
   "cell_type": "markdown",
   "id": "24b74252",
   "metadata": {},
   "source": [
    "#### NAIVE BAYES MODEL:\n",
    "\n",
    "The scikit-learn library doesn't implement models from scratch that are suitable for different types of data or distributions. However, it is possible to build a mixed model. Some foundations offer more complex models, for example: https://github.com/remykarem/mixed-naive-bayes/blob/master/mixed_naive_bayes/mixed_naive_bayes.py. \n",
    "\n",
    "Nevertheless, we provide a simplified version of a mixed model consisting of a Gaussian and a Categorical that fills this gap:"
   ]
  },
  {
   "cell_type": "code",
   "execution_count": null,
   "id": "476d60e0-0af2-4a3d-87c9-41677aeadd98",
   "metadata": {},
   "outputs": [],
   "source": [
    "model_MixedNB = NaiveBayesMixed(feat_num, feat_cat_encoded)\n",
    "\n",
    "model_MixedNB.fit(feat_train, tags_train)\n",
    "tags_pred = model_MixedNB.predict(feat_test)\n",
    "\n",
    "print(\"Classification Report:\\n\", classification_report(tags_test, tags_pred, zero_division=1))"
   ]
  },
  {
   "cell_type": "markdown",
   "id": "31ae54da-8b5b-4807-9ffc-48c1be69373e",
   "metadata": {},
   "source": [
    "#### LOGISTIC REGRESSION:"
   ]
  },
  {
   "cell_type": "code",
   "execution_count": null,
   "id": "a8095d2d-4d2a-455a-9861-ca3917e2f909",
   "metadata": {},
   "outputs": [],
   "source": [
    "if n_classes == 2:\n",
    "    model_LogisticRegression = LogisticRegression(max_iter=1000)\n",
    "    model_LogisticRegression.fit(feat_train, tags_train)\n",
    "    tags_pred = model_LogisticRegression.predict(feat_test)\n",
    "    \n",
    "    print(\"Classification Report:\\n\", classification_report(tags_test, tags_pred, zero_division=1))"
   ]
  },
  {
   "cell_type": "markdown",
   "id": "c3cd3ab5",
   "metadata": {},
   "source": [
    "Once the model has been realised, it is possible to improve its explicability by using graphs that simplify its understandabilty (`Explainability plots`). It is important to distinguish between explicability and interpretability. While the former one refers to the explenation of the decision model, the latter focuses on understanding how it works. Consequently, the interpretability requires a deeper level of detail and will support the communication with experts, while the explicability is more superficial and suitable for end users [1].\n",
    "\n",
    "It is effective to perform an evaluation based on the graph of ROC curves. This graph relates sensitivity and specificity such that the higher the area, the better the prediction. "
   ]
  },
  {
   "cell_type": "code",
   "execution_count": null,
   "id": "7b8f62c5",
   "metadata": {},
   "outputs": [],
   "source": [
    "classifiers = {'RF': model_RandomForest, 'NB': model_MixedNB}\n",
    "\n",
    "fig, axs = plt.subplots(1, len(classifiers), figsize=(10, 5))\n",
    "\n",
    "for i, (classifier_name, classifier) in enumerate(classifiers.items()):\n",
    "    classifier.fit(feat_train, tags_train)\n",
    "    \n",
    "    y_scores = classifier.predict_proba(feat_test)\n",
    "    \n",
    "    if n_classes > 2:\n",
    "        \n",
    "        # Binarize tags one-vs-all\n",
    "        tags_test_binarized = label_binarize(tags_test, classes=unique_classes_enc)\n",
    "        n_classes = len(unique_classes)\n",
    "\n",
    "        # Calculate the ROC curve for each class\n",
    "        for c in range(n_classes):\n",
    "            fpr, tpr, thresholds = roc_curve(tags_test_binarized[:, c], y_scores[:, c])\n",
    "            roc_auc = auc(fpr, tpr)\n",
    "            axs[i].plot(fpr, tpr, lw=2, label=f'Class {unique_classes[c]} (AUC = {roc_auc:.2f})')\n",
    "            axs[i].set_title(f'Multi-class ROC curve ({classifier_name})', fontdict={'fontsize': 12, 'weight': 'bold'})\n",
    "\n",
    "            # Calculate Youden index\n",
    "            youden_index = thresholds[np.argmax(tpr - fpr)]\n",
    "            axs[i].scatter(fpr[np.argmax(tpr - fpr)], tpr[np.argmax(tpr - fpr)], marker='o', label=f'Youden Index: {youden_index:.2f}')\n",
    "            \n",
    "    else:\n",
    "        fpr, tpr, thresholds = roc_curve(tags_test, y_scores[:, 1])\n",
    "        roc_auc = auc(fpr, tpr)\n",
    "        axs[i].plot(fpr, tpr, lw=2, color='tab:blue', label=f'{output} (AUC = {roc_auc:.2f})')\n",
    "        axs[i].set_title(f'ROC curve ({classifier_name})', fontdict={'fontsize': 12, 'weight': 'bold'})\n",
    "        \n",
    "        # Calculate Youden index\n",
    "        youden_index = thresholds[np.argmax(tpr - fpr)]\n",
    "        axs[i].scatter(fpr[np.argmax(tpr - fpr)], tpr[np.argmax(tpr - fpr)], marker='s', color='tab:blue', label=f'Youden Index: {youden_index:.2f}')\n",
    "    \n",
    "    axs[i].plot([0, 1], [0, 1], color='red', lw=2, linestyle='--')\n",
    "    axs[i].set_xlim([0.0, 1.0])\n",
    "    axs[i].set_ylim([0.0, 1.05])\n",
    "    axs[i].set_xlabel('False Positive Rate', fontdict={'fontsize': 10})\n",
    "    axs[i].set_ylabel('True Positive Rate', fontdict={'fontsize': 10})\n",
    "    axs[i].legend(loc=\"lower right\", prop={'size': 10})\n",
    "\n",
    "plt.show()\n"
   ]
  },
  {
   "cell_type": "markdown",
   "id": "ef4bf017-12ef-4aa7-a91e-5baf5a2c5d7a",
   "metadata": {},
   "source": [
    "To compare the behaviour of the two models, it is useful to plot the ROC curve of each model for ONE vs. ALL."
   ]
  },
  {
   "cell_type": "code",
   "execution_count": null,
   "id": "27b89136",
   "metadata": {},
   "outputs": [],
   "source": [
    "if n_classes > 2:\n",
    "    plt.figure(figsize=(6, 5))\n",
    "    for classifier_name, classifier in classifiers.items():\n",
    "        tpr_list = []\n",
    "        mean_fpr = np.linspace(0, 1, 100)  # Common set of points\n",
    "        \n",
    "        y_scores = classifier.predict_proba(feat_test)\n",
    "        \n",
    "        for i in range(n_classes):\n",
    "            fpr, tpr, _ = roc_curve(tags_test_binarized[:, i], y_scores[:, i])\n",
    "            \n",
    "            # Interpolate the ROC curve to have a common set of points\n",
    "            interp_tpr = np.interp(mean_fpr, fpr, tpr)\n",
    "            interp_tpr[0] = 0.0  # Set the first point to (0, 0)\n",
    "            tpr_list.append(interp_tpr)\n",
    "        \n",
    "        # Calculate the average ROC curve\n",
    "        mean_tpr = np.mean(tpr_list, axis=0)\n",
    "        roc_auc_mean = auc(mean_fpr, mean_tpr)\n",
    "        \n",
    "        # Plot ROC curve\n",
    "        plt.plot(mean_fpr, mean_tpr, lw=2, label=f'{classifier_name} (AUC = {roc_auc_mean:.2f})')\n",
    "        \n",
    "    plt.plot([0, 1], [0, 1], color='red', lw=2, linestyle='--')\n",
    "    plt.xlim([0.0, 1.0])\n",
    "    plt.ylim([0.0, 1.05])\n",
    "    plt.xlabel('False Positive Rate', fontdict={'fontsize': 12})\n",
    "    plt.ylabel('True Positive Rate', fontdict={'fontsize': 12})\n",
    "    plt.title('One vs. Rest ROC curve (MNB vs RF)', fontdict={'fontsize': 14, 'weight': 'bold'})\n",
    "    plt.legend(loc=\"lower right\", prop={'size': 12})\n",
    "    plt.show()\n"
   ]
  },
  {
   "cell_type": "markdown",
   "id": "382d71df-3075-4d66-8053-c87c6424d9dd",
   "metadata": {},
   "source": [
    "We also provide a confusion matrix for both models. This graph compares the predicted classes with the real ones. Ideally, we look for an identity matrix with a main diagonal of probability 1. In addition to making the tools as suitable as possible for the maximum number of groups, we use a 'cividis' colour palette ranging from soft yellow tones to a more intense blue suitable for daltonics."
   ]
  },
  {
   "cell_type": "code",
   "execution_count": null,
   "id": "6a9f0299-2fb6-4b86-9ef7-61cf43a70520",
   "metadata": {},
   "outputs": [],
   "source": [
    "fig, axs = plt.subplots(1, 2, figsize=(12, 6))\n",
    "\n",
    "plt.rcParams['figure.constrained_layout.use'] = True\n",
    "\n",
    "for i, (classifier_name, classifier) in enumerate(classifiers.items()):\n",
    "   \n",
    "    # Calculate and normalise the confusion matrix\n",
    "    tags_pred = classifier.predict(feat_test)\n",
    "    conf_matrix = confusion_matrix(tags_test, tags_pred, labels=unique_classes_enc)\n",
    "    # conf_matrix = conf_matrix.astype('float') / conf_matrix.sum(axis=1)[:, np.newaxis]\n",
    "    \n",
    "    im = axs[i].imshow(conf_matrix, cmap='cividis')\n",
    "    threshold = np.max(conf_matrix) / 2\n",
    "\n",
    "    # Loop over data dimensions and create text annotations.\n",
    "    for j in range(len(unique_classes)):\n",
    "        for k in range(len(unique_classes)):\n",
    "            color = \"black\" if round(conf_matrix[j, k], 2) > threshold else \"white\"    \n",
    "            text = axs[i].text(k, j, round(conf_matrix[j, k], 2), ha=\"center\", va=\"center\", color=color)\n",
    "            \n",
    "    axs[i].set_xticks(np.arange(len(unique_classes)))\n",
    "    axs[i].set_yticks(np.arange(len(unique_classes)))\n",
    "    axs[i].set_xticklabels(unique_classes, fontdict={'fontsize':12})\n",
    "    axs[i].set_yticklabels(unique_classes, fontdict={'fontsize':12})  # Invert Y axis labels\n",
    "    axs[i].set_title(f\"{classifier_name} - Confusion Matrix\", fontdict={'fontsize':14, 'weight': 'bold'}, y=1.15)\n",
    "    plt.setp(axs[i].get_xticklabels(), rotation=45, ha=\"right\", rotation_mode=\"anchor\")\n",
    "\n",
    "    # Set labels for x and y axes\n",
    "    axs[i].set_ylabel(\"Actual\", fontdict={'fontsize': 12})\n",
    "    axs[i].set_xlabel(\"Predicted\", fontdict={'fontsize': 12})\n",
    "\n",
    "# Invert X axis labels\n",
    "for ax in axs:\n",
    "    ax.xaxis.set_ticks_position('top')\n",
    "    ax.xaxis.set_label_position('top')\n",
    "    \n",
    "# Add colorbar\n",
    "cbar = fig.colorbar(im, ax=axs.ravel().tolist(), shrink=0.6)\n",
    "cbar.set_label('Values')\n",
    "cbar.ax.set_ylabel('Values', rotation=-90, va=\"bottom\", fontsize=15)\n",
    "\n",
    "plt.show()"
   ]
  },
  {
   "cell_type": "markdown",
   "id": "2d9c2ae2-186d-44ae-8ed4-bebadee4ca20",
   "metadata": {},
   "source": [
    "It might be useful to use graphs that show the importance of features in making predictions, such as the graph of functions associated with the models or another more complex one such as SHAP (SHapley Additive exPlanations) [1]."
   ]
  },
  {
   "cell_type": "code",
   "execution_count": null,
   "id": "6e418741-b839-407d-ae82-622c5e1ea9a3",
   "metadata": {},
   "outputs": [],
   "source": [
    "for classifier_name, classifier in classifiers.items():\n",
    "    if classifier_name == 'NB':\n",
    "        print(\"\\nFor Mixed Naive Bayes, try other methods such as Shapley\")\n",
    "\n",
    "    elif classifier_name == 'RF':\n",
    "\n",
    "        feature_importance = classifier.feature_importances_\n",
    "        sorted_grouped_features = handleData.group_feature_importanceT(feature_names_encoded, feature_importance, feat_cat_encoded)\n",
    "        sorted_features, importances = zip(*sorted_grouped_features)\n",
    "\n",
    "        plt.figure(figsize=(8, 6))\n",
    "        plt.bar(range(len(importances)), importances, align='center', color='lightblue')\n",
    "        plt.xticks(range(len(importances)), sorted_features, rotation=90)\n",
    "        plt.grid(axis='y', linestyle='--', alpha=0.7)\n",
    "        plt.xlabel('Original Features', fontdict={'fontsize':12})\n",
    "        plt.ylabel('Importance', fontdict={'fontsize':12})\n",
    "        plt.title(f'Grouped Feature Importance in {classifier_name}', fontdict={'fontsize':14, 'weight': 'bold'})\n",
    "        plt.show()\n"
   ]
  },
  {
   "cell_type": "markdown",
   "id": "c3f97362",
   "metadata": {},
   "source": [
    "## 3. DEPLOYMENT and USE <a class=\"anchor\" id=\"deployment-use\"></a>\n",
    "\n",
    "Apart from model development, analyse how the model deals with unexpected problems. We offer different Shapley plots (`Explainability plots after training`)."
   ]
  },
  {
   "cell_type": "code",
   "execution_count": null,
   "id": "2159954c",
   "metadata": {},
   "outputs": [],
   "source": [
    "file_name = 'dataset_test_diabetes_QC.csv'\n",
    "data_test = pd.read_csv(path + file_name)\n",
    "\n",
    "# ### Uncomment only if you want to binarise a multi-class classification problem ###\n",
    "# if positive_class:\n",
    "#     dataset[output] = pd.Series(np.where(dataset[output] == positive_class, 1, 0), index=dataset[output].index, name=output)\n",
    "\n",
    "feat_test = data_test.drop(output,axis=1)\n",
    "tags_test = data_test[output] "
   ]
  },
  {
   "cell_type": "code",
   "execution_count": null,
   "id": "b6c2f746",
   "metadata": {},
   "outputs": [],
   "source": [
    "feat_test, _, _ = handleData.encode(feat_test)\n",
    "\n",
    "# Encode Tags \n",
    "if not np.issubdtype(tags_test.dtype, np.number):\n",
    "    tags_test_encoded = encoderLabel.transform(tags_test)\n",
    "    tags_test = pd.Series(tags_test_encoded, index=tags_test.index, name=tags_test.name)"
   ]
  },
  {
   "cell_type": "code",
   "execution_count": null,
   "id": "24dd8a2b",
   "metadata": {},
   "outputs": [],
   "source": [
    "if n_classes > 2:\n",
    "    \n",
    "    # Calculate SHAP values\n",
    "    explainer = shap.TreeExplainer(model_RandomForest, feat_test[:20])\n",
    "    shap_values = explainer.shap_values(feat_test)\n",
    "    \n",
    "    # Calculate average importance of feature by class\n",
    "    shap_sums = np.abs(shap_values).mean(axis=1)\n",
    "    \n",
    "    fig = go.Figure()\n",
    "    \n",
    "    # Add a bar for each class\n",
    "    for i in range(len(shap_values)):\n",
    "        fig.add_trace(go.Bar(x=feature_names, y=shap_sums[i], name=f'{unique_classes[i]}'))\n",
    "    \n",
    "    # Update plot design\n",
    "    fig.update_layout(\n",
    "        barmode='stack',\n",
    "        title=\"Random Forest - SHAP Contribution by Features\",\n",
    "        title_x=0.5,\n",
    "        xaxis_title=\"Features\",\n",
    "        yaxis_title=\"Average SHAP Value\",\n",
    "        xaxis_tickangle=-65\n",
    "    )\n",
    "    fig.update_layout(\n",
    "        barmode='stack',\n",
    "        title={\n",
    "            'text': \"Random Forest - SHAP Contribution by Features\",\n",
    "            'x': 0.5,\n",
    "            'font': {'size': 24}\n",
    "        },\n",
    "        xaxis={\n",
    "            'title': {'text': \"Features\", 'font': {'size': 20}},\n",
    "            'tickangle': -65,\n",
    "            'tickfont': {'size': 19}\n",
    "        },\n",
    "        yaxis={\n",
    "            'title': {'text': \"Average SHAP Value\", 'font': {'size': 20}},\n",
    "            'tickfont': {'size': 19},\n",
    "        },\n",
    "        legend= {'font': {'size': 19}}\n",
    "    )\n",
    "    fig.show()"
   ]
  },
  {
   "cell_type": "code",
   "execution_count": null,
   "id": "f5fec0b1-e660-499e-9dc9-a6bff8a7da4e",
   "metadata": {},
   "outputs": [],
   "source": [
    "if n_classes == 2:\n",
    "    # Calculate SHAP values\n",
    "    explainer = shap.TreeExplainer(model_RandomForest, feat_test[:20])\n",
    "    shap_values = explainer.shap_values(feat_test)\n",
    "\n",
    "    # Calculate average importance of feature by class\n",
    "    shap_sums = np.abs(shap_values).mean(axis=1)\n",
    "    \n",
    "    fig = go.Figure()\n",
    "    shap.summary_plot(shap_values, feat_test, feature_names=feature_names_encoded, plot_type=\"bar\")"
   ]
  },
  {
   "cell_type": "code",
   "execution_count": null,
   "id": "d9aff55d",
   "metadata": {},
   "outputs": [],
   "source": [
    "if n_classes == 2:\n",
    "\n",
    "    # Calculate shap values\n",
    "    explainer = shap.Explainer(model_LogisticRegression, feat_test[:20])\n",
    "    shap_values = explainer.shap_values(feat_test)\n",
    "\n",
    "    fig = go.Figure()\n",
    "\n",
    "    try:\n",
    "        # Plot a SHAP Summary Chart\n",
    "        shap.summary_plot(shap_values, feat_test, feature_names=feature_names_encoded)\n",
    "        plt.tight_layout()\n",
    "    except RuntimeError as e:\n",
    "        if \"Colorbar layout of new layout engine not compatible\" in str(e):\n",
    "            pass  # Ignore the error related to the colorbar layout\n",
    "        else:\n",
    "            raise e  \n"
   ]
  },
  {
   "cell_type": "markdown",
   "id": "6b32207a-f877-4f5d-a3d2-d0e8f625b1da",
   "metadata": {},
   "source": [
    "To inform about the model, a 'disclaimer' template like the following one could be used (`Disclaimer communication`):"
   ]
  },
  {
   "cell_type": "markdown",
   "id": "119082f0-f301-453a-bb3d-98b940e82fc7",
   "metadata": {},
   "source": [
    "**DISCLAIMER FOR TRUSTWORTHY AI MODEL [Model Name]**\n",
    "\n",
    "*This trustworthy AI model, [Model Name], has been meticulously developed for [intended use cases]. It underwent extensive training on [describe the data] and consistently demonstrates a high level of accuracy, with performance metrics indicating [mention performance metrics] when assessed in [describe the context or domain]. The model has undergone rigorous testing for fairness and robustness, although it's important to acknowledge [include any limitations regarding fairness, bias, and robustness].*\n",
    "\n",
    "*[Model Name] employs inherently [transparent/ not transparent] algorithms to the end-user, and we employ [describe any interpretability tools or methods used] to ensure transparency and interpretability. Data privacy and security are paramount, and we uphold strict measures to safeguard user data in compliance with regulations.*\n",
    "\n",
    "*While [Model Name] has been carefully designed to minimize biases and ethical concerns, users are urged not to rely solely on it for [critical decisions/ any sensitive use cases]. It is imperative to exercise caution when interpreting the model's predictions and, when appropriate, consult with a qualified human expert for review.*\n",
    "\n",
    "*To maintain your trust in [Model Name], we are dedicated to routine updates and maintenance, ensuring it remains aligned with the latest data and best practices. Should you have any inquiries, concerns, or encounter any issues, please do not hesitate to reach out to us at [contact information].*\n",
    "\n",
    "*Please take note that [Company/Developer Name] cannot be held liable for any harm or damage resulting from the use of [Model Name] outside of its designated use cases and recommendations.*\n",
    "\n",
    "*[Include any additional specific disclaimers related to the model].*"
   ]
  },
  {
   "cell_type": "markdown",
   "id": "3743b7bd",
   "metadata": {},
   "source": [
    "## 4. MANAGEMENT <a class=\"anchor\" id=\"management\"></a>\n",
    "\n",
    "### 4.1. Documentation: <a class=\"anchor\" id=\"documentation\"></a>\n",
    "\n",
    "In addition, a continuous documentation of the results (`Output ocumentation`) should be carried out to allow trazability and increase transparency, so that it is possible to identify the reasons why a decision was wrong. At the same time, it is necessary to establish a communication with the end users , so that they are fully aware of the features, limitations and shortcomings of the AI.\n",
    "\n",
    "Considering a \"Recordings\" folder to store the registers, there is an example of how to register the metrics of the Random Forest model metrics."
   ]
  },
  {
   "cell_type": "code",
   "execution_count": null,
   "id": "2068c5a2",
   "metadata": {},
   "outputs": [],
   "source": [
    "# Extract metrics from RF classification report \n",
    "report_lines = report.split('\\n')\n",
    "metrics = report_lines[-2].split()\n",
    "\n",
    "precision = float(metrics[2])\n",
    "recall = float(metrics[3])\n",
    "f1 = float(metrics[4])\n",
    "support = int(metrics[5])\n",
    "hour = datetime.now().strftime('%Y-%m-%d %H:%M:%S')\n",
    "\n",
    "data = pd.DataFrame({\n",
    "    'Precision': [precision],\n",
    "    'Recall': [recall],\n",
    "    'F1 Score': [f1],\n",
    "    'Support': [support],\n",
    "    'Hour': [hour]\n",
    "})\n",
    "\n",
    "file_hour = datetime.now().strftime('%Y%m%d_%H%M%S')\n",
    "file_name = f'recordings/recording_{file_hour}.csv'\n",
    "data.to_csv(file_name, index=False)\n",
    "\n",
    "print(f\"Data registered in {file_name} at {data['Hour'].iloc[0]}\")"
   ]
  },
  {
   "cell_type": "markdown",
   "id": "b5c35164",
   "metadata": {},
   "source": [
    "#### Change Log\n",
    "\n",
    "| Date (YYYY-MM-DD) | Version | Changed By          | Change Description                          |\n",
    "| ----------------- | ------- | ------------        | ------------------------------------------- |\n",
    "| 2024-06-05        | 1.0     | Carlos de Manuel    | Development of the initial version          |\n"
   ]
  },
  {
   "cell_type": "markdown",
   "id": "fdf20b1a-34f9-45ac-b116-73dc75e01ccb",
   "metadata": {},
   "source": [
    "### 4.3. Cooperation and Incident sharing: <a class=\"anchor\" id=\"cooperation-and-sharing\"></a>\n",
    "\n",
    "In addition, it might be positive to propose a template to reporting incidents (`Incident sharing`). This could include data such as user's information, details of the incident (date, time and location), and a brief description of the incident or the possible impact."
   ]
  },
  {
   "cell_type": "markdown",
   "id": "9a33e80b",
   "metadata": {},
   "source": [
    "## REFERENCES  <a class=\"anchor\" id=\"references\"></a>\n",
    "\n",
    "1. Molnar, C. (s. f.). Aprendizaje automático interpretable. Recuperado 7 de mayo de 2024, de https://fedefliguer.github.io/AAI/ <br>"
   ]
  }
 ],
 "metadata": {
  "kernelspec": {
   "display_name": "Python 3 (ipykernel)",
   "language": "python",
   "name": "python3"
  },
  "language_info": {
   "codemirror_mode": {
    "name": "ipython",
    "version": 3
   },
   "file_extension": ".py",
   "mimetype": "text/x-python",
   "name": "python",
   "nbconvert_exporter": "python",
   "pygments_lexer": "ipython3",
   "version": "3.11.7"
  }
 },
 "nbformat": 4,
 "nbformat_minor": 5
}
