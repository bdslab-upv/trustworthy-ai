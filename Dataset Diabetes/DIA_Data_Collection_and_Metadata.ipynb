{
 "cells": [
  {
   "cell_type": "markdown",
   "id": "e33a8cf0",
   "metadata": {},
   "source": [
    "# TRUSTWORTHY AI: Data Collection and Metadata\n",
    "\n",
    "#### Script to fit the data into the TAI \n",
    "\n",
    "The aim of this script is to prepare the necessary metadata and, in a greater manner, to simplify the dataset \"Diabetes 130 US hospitals for years 1999-2008\" in order to adapt it to the study of a trustworthy AI."
   ]
  },
  {
   "cell_type": "markdown",
   "id": "47ca883b-c148-4773-ab57-920e09593c26",
   "metadata": {},
   "source": [
    "We start by preparing the working environment. Import all the necessary libraries."
   ]
  },
  {
   "cell_type": "code",
   "execution_count": 13,
   "id": "36cbaa8b-f302-45b8-85d7-37b984388af9",
   "metadata": {},
   "outputs": [],
   "source": [
    "import pandas as pd\n",
    "import numpy as np\n",
    "import json"
   ]
  },
  {
   "cell_type": "markdown",
   "id": "d86d9337",
   "metadata": {},
   "source": [
    "To simplify the study, we will make certain assumptions."
   ]
  },
  {
   "cell_type": "code",
   "execution_count": 14,
   "id": "df8bf98c",
   "metadata": {},
   "outputs": [
    {
     "data": {
      "text/html": [
       "<div>\n",
       "<style scoped>\n",
       "    .dataframe tbody tr th:only-of-type {\n",
       "        vertical-align: middle;\n",
       "    }\n",
       "\n",
       "    .dataframe tbody tr th {\n",
       "        vertical-align: top;\n",
       "    }\n",
       "\n",
       "    .dataframe thead th {\n",
       "        text-align: right;\n",
       "    }\n",
       "</style>\n",
       "<table border=\"1\" class=\"dataframe\">\n",
       "  <thead>\n",
       "    <tr style=\"text-align: right;\">\n",
       "      <th></th>\n",
       "      <th>encounter_id</th>\n",
       "      <th>patient_nbr</th>\n",
       "      <th>race</th>\n",
       "      <th>gender</th>\n",
       "      <th>age</th>\n",
       "      <th>weight</th>\n",
       "      <th>admission_type_id</th>\n",
       "      <th>discharge_disposition_id</th>\n",
       "      <th>admission_source_id</th>\n",
       "      <th>time_in_hospital</th>\n",
       "      <th>...</th>\n",
       "      <th>citoglipton</th>\n",
       "      <th>insulin</th>\n",
       "      <th>glyburide-metformin</th>\n",
       "      <th>glipizide-metformin</th>\n",
       "      <th>glimepiride-pioglitazone</th>\n",
       "      <th>metformin-rosiglitazone</th>\n",
       "      <th>metformin-pioglitazone</th>\n",
       "      <th>change</th>\n",
       "      <th>diabetesMed</th>\n",
       "      <th>readmitted</th>\n",
       "    </tr>\n",
       "  </thead>\n",
       "  <tbody>\n",
       "    <tr>\n",
       "      <th>0</th>\n",
       "      <td>2278392</td>\n",
       "      <td>8222157</td>\n",
       "      <td>Caucasian</td>\n",
       "      <td>Female</td>\n",
       "      <td>[0-10)</td>\n",
       "      <td>NaN</td>\n",
       "      <td>6</td>\n",
       "      <td>25</td>\n",
       "      <td>1</td>\n",
       "      <td>1</td>\n",
       "      <td>...</td>\n",
       "      <td>No</td>\n",
       "      <td>No</td>\n",
       "      <td>No</td>\n",
       "      <td>No</td>\n",
       "      <td>No</td>\n",
       "      <td>No</td>\n",
       "      <td>No</td>\n",
       "      <td>No</td>\n",
       "      <td>No</td>\n",
       "      <td>NO</td>\n",
       "    </tr>\n",
       "    <tr>\n",
       "      <th>1</th>\n",
       "      <td>149190</td>\n",
       "      <td>55629189</td>\n",
       "      <td>Caucasian</td>\n",
       "      <td>Female</td>\n",
       "      <td>[10-20)</td>\n",
       "      <td>NaN</td>\n",
       "      <td>1</td>\n",
       "      <td>1</td>\n",
       "      <td>7</td>\n",
       "      <td>3</td>\n",
       "      <td>...</td>\n",
       "      <td>No</td>\n",
       "      <td>Up</td>\n",
       "      <td>No</td>\n",
       "      <td>No</td>\n",
       "      <td>No</td>\n",
       "      <td>No</td>\n",
       "      <td>No</td>\n",
       "      <td>Ch</td>\n",
       "      <td>Yes</td>\n",
       "      <td>&gt;30</td>\n",
       "    </tr>\n",
       "    <tr>\n",
       "      <th>2</th>\n",
       "      <td>64410</td>\n",
       "      <td>86047875</td>\n",
       "      <td>AfricanAmerican</td>\n",
       "      <td>Female</td>\n",
       "      <td>[20-30)</td>\n",
       "      <td>NaN</td>\n",
       "      <td>1</td>\n",
       "      <td>1</td>\n",
       "      <td>7</td>\n",
       "      <td>2</td>\n",
       "      <td>...</td>\n",
       "      <td>No</td>\n",
       "      <td>No</td>\n",
       "      <td>No</td>\n",
       "      <td>No</td>\n",
       "      <td>No</td>\n",
       "      <td>No</td>\n",
       "      <td>No</td>\n",
       "      <td>No</td>\n",
       "      <td>Yes</td>\n",
       "      <td>NO</td>\n",
       "    </tr>\n",
       "    <tr>\n",
       "      <th>3</th>\n",
       "      <td>500364</td>\n",
       "      <td>82442376</td>\n",
       "      <td>Caucasian</td>\n",
       "      <td>Male</td>\n",
       "      <td>[30-40)</td>\n",
       "      <td>NaN</td>\n",
       "      <td>1</td>\n",
       "      <td>1</td>\n",
       "      <td>7</td>\n",
       "      <td>2</td>\n",
       "      <td>...</td>\n",
       "      <td>No</td>\n",
       "      <td>Up</td>\n",
       "      <td>No</td>\n",
       "      <td>No</td>\n",
       "      <td>No</td>\n",
       "      <td>No</td>\n",
       "      <td>No</td>\n",
       "      <td>Ch</td>\n",
       "      <td>Yes</td>\n",
       "      <td>NO</td>\n",
       "    </tr>\n",
       "    <tr>\n",
       "      <th>4</th>\n",
       "      <td>16680</td>\n",
       "      <td>42519267</td>\n",
       "      <td>Caucasian</td>\n",
       "      <td>Male</td>\n",
       "      <td>[40-50)</td>\n",
       "      <td>NaN</td>\n",
       "      <td>1</td>\n",
       "      <td>1</td>\n",
       "      <td>7</td>\n",
       "      <td>1</td>\n",
       "      <td>...</td>\n",
       "      <td>No</td>\n",
       "      <td>Steady</td>\n",
       "      <td>No</td>\n",
       "      <td>No</td>\n",
       "      <td>No</td>\n",
       "      <td>No</td>\n",
       "      <td>No</td>\n",
       "      <td>Ch</td>\n",
       "      <td>Yes</td>\n",
       "      <td>NO</td>\n",
       "    </tr>\n",
       "  </tbody>\n",
       "</table>\n",
       "<p>5 rows × 50 columns</p>\n",
       "</div>"
      ],
      "text/plain": [
       "   encounter_id  patient_nbr             race  gender      age weight  \\\n",
       "0       2278392      8222157        Caucasian  Female   [0-10)    NaN   \n",
       "1        149190     55629189        Caucasian  Female  [10-20)    NaN   \n",
       "2         64410     86047875  AfricanAmerican  Female  [20-30)    NaN   \n",
       "3        500364     82442376        Caucasian    Male  [30-40)    NaN   \n",
       "4         16680     42519267        Caucasian    Male  [40-50)    NaN   \n",
       "\n",
       "   admission_type_id  discharge_disposition_id  admission_source_id  \\\n",
       "0                  6                        25                    1   \n",
       "1                  1                         1                    7   \n",
       "2                  1                         1                    7   \n",
       "3                  1                         1                    7   \n",
       "4                  1                         1                    7   \n",
       "\n",
       "   time_in_hospital  ... citoglipton insulin  glyburide-metformin  \\\n",
       "0                 1  ...          No      No                   No   \n",
       "1                 3  ...          No      Up                   No   \n",
       "2                 2  ...          No      No                   No   \n",
       "3                 2  ...          No      Up                   No   \n",
       "4                 1  ...          No  Steady                   No   \n",
       "\n",
       "   glipizide-metformin  glimepiride-pioglitazone  metformin-rosiglitazone  \\\n",
       "0                   No                        No                       No   \n",
       "1                   No                        No                       No   \n",
       "2                   No                        No                       No   \n",
       "3                   No                        No                       No   \n",
       "4                   No                        No                       No   \n",
       "\n",
       "   metformin-pioglitazone  change diabetesMed readmitted  \n",
       "0                      No      No          No         NO  \n",
       "1                      No      Ch         Yes        >30  \n",
       "2                      No      No         Yes         NO  \n",
       "3                      No      Ch         Yes         NO  \n",
       "4                      No      Ch         Yes         NO  \n",
       "\n",
       "[5 rows x 50 columns]"
      ]
     },
     "execution_count": 14,
     "metadata": {},
     "output_type": "execute_result"
    }
   ],
   "source": [
    "# Load the diabetes dataset\n",
    "path = 'C:\\\\Users\\\\carlo\\\\OneDrive - UPV\\\\ESCRITORIO CARLOS\\\\UPV\\\\BECA COLABORACIÓN\\\\Datasets\\\\Diabetes\\\\' \n",
    "file_name = 'dataset_diabetes.xlsx'\n",
    "data = pd.read_excel(path + file_name)\n",
    "\n",
    "data.replace('?', np.nan, inplace=True)# 'inplace = True', changes applied directly to the DataFrame\n",
    "data.head()"
   ]
  },
  {
   "cell_type": "markdown",
   "id": "77c2df3e",
   "metadata": {},
   "source": [
    "First of all, we are going to delete the unnecessary characteristics, that is, those that refer to the variability of the dosage of different medicines, because if there is a variation in the dosage, we will notice it in the variable 'change'."
   ]
  },
  {
   "cell_type": "code",
   "execution_count": 15,
   "id": "28f4199d-6f9d-4ca3-95d7-3881f0c9f5b8",
   "metadata": {},
   "outputs": [],
   "source": [
    "data.drop(data.columns[22:47], axis=1, inplace=True)"
   ]
  },
  {
   "cell_type": "markdown",
   "id": "e7e15e29-e6f2-4cae-bb19-2257e62685da",
   "metadata": {},
   "source": [
    "The dataset includes multiple rows with the same 'patient_nbr', which may create a correlation risk between patient visits and instances. We assume that 'time_in_hospital' is a relevant feature for readmission and will retain the row with the maximum time."
   ]
  },
  {
   "cell_type": "code",
   "execution_count": 16,
   "id": "3afcc66f-5db7-49ef-99f6-bec98898f144",
   "metadata": {},
   "outputs": [],
   "source": [
    "idx = data.groupby('patient_nbr')['time_in_hospital'].idxmax()\n",
    "data = data.loc[idx]"
   ]
  },
  {
   "cell_type": "markdown",
   "id": "16ae46ca-609d-4320-af6b-1381fa1ae110",
   "metadata": {},
   "source": [
    "Looking at the sensitive variable 'race', we notice that there are categories with a huge lack of instances. Therefore, we will simplify the characteristic by grouping the races 'Asian' and 'Hispanic' into 'Other'."
   ]
  },
  {
   "cell_type": "code",
   "execution_count": 17,
   "id": "6c819fba-0b0a-44e9-a89f-d3218fc6ae02",
   "metadata": {},
   "outputs": [
    {
     "name": "stdout",
     "output_type": "stream",
     "text": [
      "race\n",
      "Caucasian          53513\n",
      "AfricanAmerican    12903\n",
      "Hispanic            1512\n",
      "Other               1170\n",
      "Asian                500\n",
      "Name: count, dtype: int64\n",
      "\n",
      " race\n",
      "Caucasian          53513\n",
      "AfricanAmerican    12903\n",
      "Other               3182\n",
      "Name: count, dtype: int64\n"
     ]
    }
   ],
   "source": [
    "print(data['race'].value_counts())\n",
    "data['race'] = data['race'].replace(['Hispanic', 'Asian'], 'Other')\n",
    "print('\\n',data['race'].value_counts())"
   ]
  },
  {
   "cell_type": "markdown",
   "id": "c4e5c000-bb1a-4176-bf37-f553d046dcc9",
   "metadata": {},
   "source": [
    "Similarly, the features 'discharge_disposition_id', 'admission_type_id', and 'admission_source_id' have too many levels that could be grouped more simply."
   ]
  },
  {
   "cell_type": "code",
   "execution_count": 18,
   "id": "38ba6ce2-5dd2-47b8-bd41-220f72711a06",
   "metadata": {},
   "outputs": [
    {
     "name": "stdout",
     "output_type": "stream",
     "text": [
      "discharge_disposition_id\n",
      "1     43092\n",
      "3      9447\n",
      "6      8785\n",
      "18     2476\n",
      "2      1465\n",
      "22     1370\n",
      "11     1266\n",
      "5       882\n",
      "25      674\n",
      "4       546\n",
      "7       380\n",
      "23      302\n",
      "13      295\n",
      "14      266\n",
      "8        81\n",
      "28       78\n",
      "15       40\n",
      "24       27\n",
      "9        12\n",
      "17       10\n",
      "10        6\n",
      "19        6\n",
      "16        5\n",
      "27        4\n",
      "12        2\n",
      "20        1\n",
      "Name: count, dtype: int64\n",
      "\n",
      " discharge_disposition_id\n",
      "Home           51958\n",
      "Transferred    14049\n",
      "Unknown         3150\n",
      "Hospice          694\n",
      "Others           382\n",
      "Name: count, dtype: int64\n"
     ]
    }
   ],
   "source": [
    "print(data['discharge_disposition_id'].value_counts())\n",
    "\n",
    "# Drop 'discharge_disposition_id' codes associated with 'Expired'\n",
    "data = data[~data['discharge_disposition_id'].isin([11, 19, 20, 21])]\n",
    "\n",
    "# Define 'discharge_disposition_id' map function\n",
    "def map_discharge_category(val):\n",
    "    if val in [1, 6, 8]:\n",
    "        return 'Home'\n",
    "    elif val in [2, 3, 4, 5, 10, 22, 23, 24, 30, 27, 29]:\n",
    "        return 'Transferred'\n",
    "    elif val in [7, 12]:\n",
    "        return 'Others'\n",
    "    elif val in [13, 14, 15, 16, 17, 28]:\n",
    "        return 'Hospice'\n",
    "    elif val in [18, 25, 26]:\n",
    "        return 'Unknown'\n",
    "\n",
    "data['discharge_disposition_id'] = data['discharge_disposition_id'].apply(map_discharge_category)\n",
    "print('\\n',data['discharge_disposition_id'].value_counts())\n"
   ]
  },
  {
   "cell_type": "code",
   "execution_count": 19,
   "id": "cbaf2361-7a54-4a32-a9d3-b44d7d078288",
   "metadata": {},
   "outputs": [
    {
     "name": "stdout",
     "output_type": "stream",
     "text": [
      "admission_source_id\n",
      "7     37618\n",
      "1     21476\n",
      "17     4819\n",
      "4      2666\n",
      "6      1797\n",
      "2       894\n",
      "5       572\n",
      "20      146\n",
      "3       127\n",
      "9        94\n",
      "8        12\n",
      "22        9\n",
      "10        8\n",
      "14        2\n",
      "11        2\n",
      "25        2\n",
      "13        1\n",
      "Name: count, dtype: int64\n",
      "\n",
      " admission_source_id\n",
      "Others      37630\n",
      "Referral    22497\n",
      "Unknown      5059\n",
      "Transfer     5054\n",
      "Birth           5\n",
      "Name: count, dtype: int64\n"
     ]
    }
   ],
   "source": [
    "print(data['admission_source_id'].value_counts())\n",
    "\n",
    "# Define 'admission_source_id' map function\n",
    "def map_admission_source_category(val):\n",
    "    if val in [1, 2, 3]:\n",
    "        return 'Referral'\n",
    "    elif val in [4, 5, 6, 10, 18, 19, 22, 25, 26]:\n",
    "        return 'Transfer'\n",
    "    elif val in [7, 8]:\n",
    "        return 'Others'\n",
    "    elif val in [9, 15, 17, 20, 21]:\n",
    "        return 'Unknown'\n",
    "    elif val in [11, 12, 13, 14, 23, 24]:\n",
    "        return 'Birth'\n",
    "\n",
    "data['admission_source_id'] = data['admission_source_id'].apply(map_admission_source_category)\n",
    "\n",
    "print(\"\\n\",data['admission_source_id'].value_counts())\n",
    "data = data[data['admission_source_id'] != 'Birth']"
   ]
  },
  {
   "cell_type": "code",
   "execution_count": 20,
   "id": "8b3529dd-8065-4e35-91ea-5fef5298876a",
   "metadata": {},
   "outputs": [
    {
     "name": "stdout",
     "output_type": "stream",
     "text": [
      "admission_type_id\n",
      "1    35871\n",
      "3    13795\n",
      "2    12932\n",
      "6     4385\n",
      "5     2936\n",
      "8      295\n",
      "7       18\n",
      "4        8\n",
      "Name: count, dtype: int64\n",
      "\n",
      " admission_type_id\n",
      "Emergency    35871\n",
      "Elective     13795\n",
      "Urgent       12932\n",
      "Unknown       7616\n",
      "Name: count, dtype: int64\n"
     ]
    }
   ],
   "source": [
    "print(data['admission_type_id'].value_counts())\n",
    "\n",
    "# Drop 'admission_type_id' rows associated with 'Newborn' and 'Trauma Center'\n",
    "data = data[~data['admission_type_id'].isin([4, 7])]\n",
    "\n",
    "map_dict = {\n",
    "    1: 'Emergency', \n",
    "    2: 'Urgent',  \n",
    "    3: 'Elective',  \n",
    "    5: 'Unknown',  # Not Available\n",
    "    6: 'Unknown',  # NULL\n",
    "    8: 'Unknown'  # Not Mapped\n",
    "}\n",
    "\n",
    "data['admission_type_id'] = data['admission_type_id'].replace(map_dict)\n",
    "\n",
    "print(\"\\n\",data['admission_type_id'].value_counts())"
   ]
  },
  {
   "cell_type": "code",
   "execution_count": 21,
   "id": "09eaf54f-caf1-4bbc-adb8-5d062f6b70cc",
   "metadata": {},
   "outputs": [],
   "source": [
    "data.rename(columns={'admission_type_id': 'admission_type', \n",
    "                     'discharge_disposition_id': 'discharge_disposition',\n",
    "                    'admission_source_id': 'admission_source'},\n",
    "            inplace=True)\n"
   ]
  },
  {
   "cell_type": "markdown",
   "id": "805ea9f1-ce1f-477b-b3a4-9d3ea03d8af7",
   "metadata": {},
   "source": [
    "We take the median of the age interval in order to convert the categorical feature into a numerical one."
   ]
  },
  {
   "cell_type": "code",
   "execution_count": 22,
   "id": "a826ae2b-aefb-4497-a5cd-3c62eabc9f67",
   "metadata": {},
   "outputs": [
    {
     "name": "stdout",
     "output_type": "stream",
     "text": [
      "age\n",
      "[70-80)     17801\n",
      "[60-70)     15685\n",
      "[50-60)     12310\n",
      "[80-90)     11330\n",
      "[40-50)      6772\n",
      "[30-40)      2671\n",
      "[90-100)     1852\n",
      "[20-30)      1115\n",
      "[10-20)       526\n",
      "[0-10)        152\n",
      "Name: count, dtype: int64\n",
      "\n",
      " age\n",
      "75    17801\n",
      "65    15685\n",
      "55    12310\n",
      "85    11330\n",
      "45     6772\n",
      "35     2671\n",
      "95     1852\n",
      "25     1115\n",
      "15      526\n",
      "5       152\n",
      "Name: count, dtype: int64\n"
     ]
    }
   ],
   "source": [
    "print(data['age'].value_counts())\n",
    "\n",
    "map_dict_age = {\n",
    "    '[0-10)': 5,\n",
    "    '[10-20)': 15,\n",
    "    '[20-30)': 25,\n",
    "    '[30-40)': 35,\n",
    "    '[40-50)': 45,\n",
    "    '[50-60)': 55,\n",
    "    '[60-70)': 65,\n",
    "    '[70-80)': 75,\n",
    "    '[80-90)': 85,\n",
    "    '[90-100)': 95\n",
    "}\n",
    "\n",
    "data['age'] = data['age'].replace(map_dict_age)\n",
    "\n",
    "print(\"\\n\",data['age'].value_counts())"
   ]
  },
  {
   "cell_type": "markdown",
   "id": "ff43080d-dd70-434c-9691-f26825e7b501",
   "metadata": {},
   "source": [
    "After these pre-processing methods, we save the dataset to start the pipeline steps"
   ]
  },
  {
   "cell_type": "code",
   "execution_count": 23,
   "id": "1e0d3e07-87d5-440c-9a0b-b7a6c38b4c65",
   "metadata": {},
   "outputs": [
    {
     "name": "stdout",
     "output_type": "stream",
     "text": [
      "The data frame has been saved to dataset_simplified.csv.\n"
     ]
    }
   ],
   "source": [
    "file_name = 'dataset_simplified.csv'\n",
    "data.to_csv(path + file_name, index=False)\n",
    "\n",
    "print(f\"The data frame has been saved to {file_name}.\")"
   ]
  },
  {
   "cell_type": "code",
   "execution_count": 24,
   "id": "f2162662",
   "metadata": {},
   "outputs": [
    {
     "name": "stdout",
     "output_type": "stream",
     "text": [
      "The Metadata has been saved to metadata.json.\n"
     ]
    }
   ],
   "source": [
    "# Define Metadata\n",
    "metadata = {\n",
    "    \"output\": \"readmitted\",\n",
    "    \"positive_class\": \"<30\",\n",
    "    \"feat_id\": [\"encounter_id\", \"patient_nbr\"],\n",
    "    \"feat_sensitive\": [\"race\", \"gender\"],\n",
    "    \"feat_types\": {\n",
    "        \"race\": \"categorical\",\n",
    "        \"gender\": \"categorical\",\n",
    "        \"age\": \"numerical\",\n",
    "        \"weight\": \"categorical\",\n",
    "        \"admission_type\": \"categorical\",\n",
    "        \"discharge_disposition\": \"categorical\",\n",
    "        \"admission_source\": \"categorical\",\n",
    "        \"time_in_hospital\": \"numerical\",\n",
    "        \"payer_code\": \"categorical\",\n",
    "        \"medical_specialty\": \"categorical\",\n",
    "        \"num_lab_procedures\": \"numerical\",\n",
    "        \"num_procedures\": \"numerical\",\n",
    "        \"num_medications\": \"numerical\",\n",
    "        \"number_outpatient\": \"numerical\",\n",
    "        \"number_emergency\": \"numerical\",\n",
    "        \"number_inpatient\": \"numerical\",\n",
    "        \"diag_1\": \"categorical\",\n",
    "        \"diag_2\": \"categorical\",\n",
    "        \"diag_3\": \"categorical\",\n",
    "        \"number_diagnoses\": \"numerical\",\n",
    "        \"change\": \"categorical\",\n",
    "        \"diabetesMed\": \"categorical\"\n",
    "    },\n",
    "    \"feat2balance\": [\"race\"],\n",
    "    # Text nformation and variable with the provenance\n",
    "    \"data_provenance\": [\"A Health Facts database that represents 10 years (1999-2008) of clinical care at 130 hospitals in United States.\",\"admission_type\"],\n",
    "    # Text information and variable with the acquisition date\n",
    "    \"acquisition_date\": [\"Empty\",\"\"]\n",
    "}\n",
    "\n",
    "file_name = 'metadata.json'\n",
    "\n",
    "# Save metadata to a JSON file at the specified path\n",
    "with open(path + file_name, 'w') as json_file:\n",
    "    json.dump(metadata, json_file, indent=4)\n",
    "\n",
    "print(f\"The Metadata has been saved to {file_name}.\")"
   ]
  },
  {
   "cell_type": "markdown",
   "id": "e776fda1",
   "metadata": {},
   "source": [
    "&copy; 2024 Carlos de Manuel & Carlos Sáez - Universitat Politècnica de València 2024\n"
   ]
  }
 ],
 "metadata": {
  "kernelspec": {
   "display_name": "Python 3 (ipykernel)",
   "language": "python",
   "name": "python3"
  },
  "language_info": {
   "codemirror_mode": {
    "name": "ipython",
    "version": 3
   },
   "file_extension": ".py",
   "mimetype": "text/x-python",
   "name": "python",
   "nbconvert_exporter": "python",
   "pygments_lexer": "ipython3",
   "version": "3.12.1"
  }
 },
 "nbformat": 4,
 "nbformat_minor": 5
}
