{
 "cells": [
  {
   "cell_type": "markdown",
   "id": "e33a8cf0",
   "metadata": {},
   "source": [
    "# TRUSTWORTHY AI: Data Collection and Metadata\n",
    "\n",
    "#### Script to fit the data into the TAI \n",
    "\n",
    "The aim of this script is to prepare the necessary metadata and, in a greater manner, to simplify the dataset \"Heart Disease\" in order to adapt it to the study of a trustworthy AI."
   ]
  },
  {
   "cell_type": "markdown",
   "id": "47ca883b-c148-4773-ab57-920e09593c26",
   "metadata": {},
   "source": [
    "We start by preparing the working environment. Import all the necessary libraries."
   ]
  },
  {
   "cell_type": "code",
   "execution_count": 125,
   "id": "36cbaa8b-f302-45b8-85d7-37b984388af9",
   "metadata": {},
   "outputs": [],
   "source": [
    "import pandas as pd\n",
    "import numpy as np\n",
    "import json"
   ]
  },
  {
   "cell_type": "markdown",
   "id": "d86d9337",
   "metadata": {},
   "source": [
    "To simplify the study, we will make certain assumptions."
   ]
  },
  {
   "cell_type": "code",
   "execution_count": 126,
   "id": "df8bf98c",
   "metadata": {},
   "outputs": [
    {
     "data": {
      "text/html": [
       "<div>\n",
       "<style scoped>\n",
       "    .dataframe tbody tr th:only-of-type {\n",
       "        vertical-align: middle;\n",
       "    }\n",
       "\n",
       "    .dataframe tbody tr th {\n",
       "        vertical-align: top;\n",
       "    }\n",
       "\n",
       "    .dataframe thead th {\n",
       "        text-align: right;\n",
       "    }\n",
       "</style>\n",
       "<table border=\"1\" class=\"dataframe\">\n",
       "  <thead>\n",
       "    <tr style=\"text-align: right;\">\n",
       "      <th></th>\n",
       "      <th>age</th>\n",
       "      <th>sex</th>\n",
       "      <th>chest_pain_type</th>\n",
       "      <th>resting_bp_s</th>\n",
       "      <th>cholesterol</th>\n",
       "      <th>fasting_blood_sugar</th>\n",
       "      <th>resting_ecg</th>\n",
       "      <th>max_heart_rate</th>\n",
       "      <th>exercise_angina</th>\n",
       "      <th>oldpeak</th>\n",
       "      <th>ST_slope</th>\n",
       "      <th>target</th>\n",
       "    </tr>\n",
       "  </thead>\n",
       "  <tbody>\n",
       "    <tr>\n",
       "      <th>0</th>\n",
       "      <td>40</td>\n",
       "      <td>1</td>\n",
       "      <td>2</td>\n",
       "      <td>140</td>\n",
       "      <td>289</td>\n",
       "      <td>0</td>\n",
       "      <td>0</td>\n",
       "      <td>172</td>\n",
       "      <td>0</td>\n",
       "      <td>0.0</td>\n",
       "      <td>1</td>\n",
       "      <td>0</td>\n",
       "    </tr>\n",
       "    <tr>\n",
       "      <th>1</th>\n",
       "      <td>49</td>\n",
       "      <td>0</td>\n",
       "      <td>3</td>\n",
       "      <td>160</td>\n",
       "      <td>180</td>\n",
       "      <td>0</td>\n",
       "      <td>0</td>\n",
       "      <td>156</td>\n",
       "      <td>0</td>\n",
       "      <td>1.0</td>\n",
       "      <td>2</td>\n",
       "      <td>1</td>\n",
       "    </tr>\n",
       "    <tr>\n",
       "      <th>2</th>\n",
       "      <td>37</td>\n",
       "      <td>1</td>\n",
       "      <td>2</td>\n",
       "      <td>130</td>\n",
       "      <td>283</td>\n",
       "      <td>0</td>\n",
       "      <td>1</td>\n",
       "      <td>98</td>\n",
       "      <td>0</td>\n",
       "      <td>0.0</td>\n",
       "      <td>1</td>\n",
       "      <td>0</td>\n",
       "    </tr>\n",
       "    <tr>\n",
       "      <th>3</th>\n",
       "      <td>48</td>\n",
       "      <td>0</td>\n",
       "      <td>4</td>\n",
       "      <td>138</td>\n",
       "      <td>214</td>\n",
       "      <td>0</td>\n",
       "      <td>0</td>\n",
       "      <td>108</td>\n",
       "      <td>1</td>\n",
       "      <td>1.5</td>\n",
       "      <td>2</td>\n",
       "      <td>1</td>\n",
       "    </tr>\n",
       "    <tr>\n",
       "      <th>4</th>\n",
       "      <td>54</td>\n",
       "      <td>1</td>\n",
       "      <td>3</td>\n",
       "      <td>150</td>\n",
       "      <td>195</td>\n",
       "      <td>0</td>\n",
       "      <td>0</td>\n",
       "      <td>122</td>\n",
       "      <td>0</td>\n",
       "      <td>0.0</td>\n",
       "      <td>1</td>\n",
       "      <td>0</td>\n",
       "    </tr>\n",
       "  </tbody>\n",
       "</table>\n",
       "</div>"
      ],
      "text/plain": [
       "   age  sex  chest_pain_type  resting_bp_s  cholesterol  fasting_blood_sugar  \\\n",
       "0   40    1                2           140          289                    0   \n",
       "1   49    0                3           160          180                    0   \n",
       "2   37    1                2           130          283                    0   \n",
       "3   48    0                4           138          214                    0   \n",
       "4   54    1                3           150          195                    0   \n",
       "\n",
       "   resting_ecg  max_heart_rate  exercise_angina  oldpeak  ST_slope  target  \n",
       "0            0             172                0      0.0         1       0  \n",
       "1            0             156                0      1.0         2       1  \n",
       "2            1              98                0      0.0         1       0  \n",
       "3            0             108                1      1.5         2       1  \n",
       "4            0             122                0      0.0         1       0  "
      ]
     },
     "execution_count": 126,
     "metadata": {},
     "output_type": "execute_result"
    }
   ],
   "source": [
    "# Load the diabetes dataset\n",
    "path = 'C:\\\\Users\\\\carlo\\\\OneDrive - UPV\\\\ESCRITORIO CARLOS\\\\UPV\\\\BECA COLABORACIÓN\\\\Datasets\\\\Heart Disease\\\\' \n",
    "file_name = 'heart_statlog_cleveland_hungary_final.csv'\n",
    "data = pd.read_csv(path+file_name)\n",
    "data.columns = data.columns.str.replace(' ', '_')\n",
    "data.head()"
   ]
  },
  {
   "cell_type": "markdown",
   "id": "b40136d1",
   "metadata": {},
   "source": [
    "To clarify the features, we will map the categories of each nominal variable and transform them into their string traductions. We want the data raw so that we can choose the most appropriate encoding method."
   ]
  },
  {
   "cell_type": "code",
   "execution_count": 127,
   "id": "93a136c5",
   "metadata": {},
   "outputs": [
    {
     "name": "stdout",
     "output_type": "stream",
     "text": [
      "sex\n",
      "1    909\n",
      "0    281\n",
      "Name: count, dtype: int64\n",
      "\n",
      " sex\n",
      "male      909\n",
      "female    281\n",
      "Name: count, dtype: int64\n"
     ]
    }
   ],
   "source": [
    "print(data['sex'].value_counts())\n",
    "\n",
    "map_dict_sex = {\n",
    "    0: 'female', \n",
    "    1: 'male',\n",
    "}\n",
    "\n",
    "data['sex'] = data['sex'].replace(map_dict_sex)\n",
    "\n",
    "print(\"\\n\",data['sex'].value_counts())"
   ]
  },
  {
   "cell_type": "code",
   "execution_count": 128,
   "id": "fbc117f3",
   "metadata": {},
   "outputs": [
    {
     "name": "stdout",
     "output_type": "stream",
     "text": [
      "chest_pain_type\n",
      "4    625\n",
      "3    283\n",
      "2    216\n",
      "1     66\n",
      "Name: count, dtype: int64\n",
      "\n",
      " chest_pain_type\n",
      "asymptomatic        625\n",
      "non-anginal pain    283\n",
      "atypical angina     216\n",
      "typical angina       66\n",
      "Name: count, dtype: int64\n"
     ]
    }
   ],
   "source": [
    "print(data['chest_pain_type'].value_counts())\n",
    "\n",
    "map_dict_pain = {\n",
    "    1: 'typical angina', \n",
    "    2: 'atypical angina',\n",
    "    3: 'non-anginal pain',\n",
    "    4: 'asymptomatic',\n",
    "}\n",
    "\n",
    "data['chest_pain_type'] = data['chest_pain_type'].replace(map_dict_pain)\n",
    "\n",
    "print(\"\\n\",data['chest_pain_type'].value_counts())"
   ]
  },
  {
   "cell_type": "code",
   "execution_count": 129,
   "id": "d6d12899",
   "metadata": {},
   "outputs": [
    {
     "name": "stdout",
     "output_type": "stream",
     "text": [
      "resting_ecg\n",
      "0    684\n",
      "2    325\n",
      "1    181\n",
      "Name: count, dtype: int64\n",
      "\n",
      " resting_ecg\n",
      "normal              684\n",
      "LV hypertrophy      325\n",
      "ST-T abnormality    181\n",
      "Name: count, dtype: int64\n"
     ]
    }
   ],
   "source": [
    "print(data['resting_ecg'].value_counts())\n",
    "\n",
    "map_dict_ecg = {\n",
    "    0: 'normal', \n",
    "    1: 'ST-T abnormality', \n",
    "    2: 'LV hypertrophy',\n",
    "}\n",
    "\n",
    "data['resting_ecg'] = data['resting_ecg'].replace(map_dict_ecg)\n",
    "\n",
    "print(\"\\n\",data['resting_ecg'].value_counts())"
   ]
  },
  {
   "cell_type": "code",
   "execution_count": 130,
   "id": "ca659b25",
   "metadata": {},
   "outputs": [
    {
     "name": "stdout",
     "output_type": "stream",
     "text": [
      "ST_slope\n",
      "2    582\n",
      "1    526\n",
      "3     81\n",
      "0      1\n",
      "Name: count, dtype: int64\n",
      "\n",
      " ST_slope\n",
      "flat           582\n",
      "upsloping      526\n",
      "downsloping     81\n",
      "Name: count, dtype: int64\n"
     ]
    }
   ],
   "source": [
    "print(data['ST_slope'].value_counts())\n",
    "\n",
    "data = data[data['ST_slope'] != 0] # Omit value 0\n",
    "map_dict_slope = {\n",
    "    1: 'upsloping', \n",
    "    2: 'flat', \n",
    "    3: 'downsloping',\n",
    "}\n",
    "\n",
    "data['ST_slope'] = data['ST_slope'].replace(map_dict_slope)\n",
    "\n",
    "print(\"\\n\",data['ST_slope'].value_counts())"
   ]
  },
  {
   "cell_type": "code",
   "execution_count": 131,
   "id": "51389b7a",
   "metadata": {},
   "outputs": [
    {
     "name": "stdout",
     "output_type": "stream",
     "text": [
      "resting_bp_s\n",
      "False    1188\n",
      "True        1\n",
      "Name: count, dtype: int64 \n",
      "\n",
      "cholesterol\n",
      "False    1017\n",
      "True      171\n",
      "Name: count, dtype: int64 \n",
      "\n"
     ]
    }
   ],
   "source": [
    "logic = data['resting_bp_s']==0\n",
    "print(logic.value_counts(), '\\n')\n",
    "data = data[data['resting_bp_s'] != 0] # Omit value 0\n",
    "\n",
    "logic = data['cholesterol']==0\n",
    "print(logic.value_counts(), '\\n')\n",
    "data['cholesterol'].replace(0, np.nan, inplace=True)"
   ]
  },
  {
   "cell_type": "code",
   "execution_count": 132,
   "id": "81b67e59",
   "metadata": {},
   "outputs": [
    {
     "name": "stdout",
     "output_type": "stream",
     "text": [
      "The data frame has been saved to dataset_simplified.csv.\n"
     ]
    }
   ],
   "source": [
    "file_name = 'dataset_simplified.csv'\n",
    "data.to_csv(path + file_name, index=False)\n",
    "\n",
    "print(f\"The data frame has been saved to {file_name}.\")"
   ]
  },
  {
   "cell_type": "code",
   "execution_count": 133,
   "id": "09972afe",
   "metadata": {},
   "outputs": [
    {
     "name": "stdout",
     "output_type": "stream",
     "text": [
      "The Metadata has been saved to metadata.json.\n"
     ]
    }
   ],
   "source": [
    "# Define Metadata\n",
    "metadata = {\n",
    "    \"output\": \"target\",\n",
    "    \"positive_class\": 1,\n",
    "    \"feat_id\": \"\",\n",
    "    \"feat_sensitive\": [\"sex\"],\n",
    "    \"feat_types\": {\n",
    "        \"age\": \"numerical\",\n",
    "        \"sex\": \"categorical\",\n",
    "        \"chest_pain_type\": \"categorical\",\n",
    "        \"resting_bp_s\": \"numerical\",\n",
    "        \"cholesterol\": \"numerical\",\n",
    "        \"fasting_blood_sugar\": \"categorical\",\n",
    "        \"resting_ecg\": \"categorical\",\n",
    "        \"max_heart_rate\":\"numerical\",\n",
    "        \"exercise_angina\":\"categorical\",\n",
    "        \"oldpeak\":\"numerical\",\n",
    "        \"ST_slope\":\"categorical\",\n",
    "    },\n",
    "    \"feat2balance\": [\"sex\"],\n",
    "    # Text nformation and variable with the provenance\n",
    "    \"data_provenance\": [\"The dataset consists of 1190 records of patients from US, UK, Switzerland and Hungary.\",\"\"],\n",
    "    # Text information and variable with the acquisition date\n",
    "    \"acquisition_date\": [\"Empty\",\"\"]\n",
    "}\n",
    "\n",
    "file_name = 'metadata.json'\n",
    "\n",
    "# Save metadata to a JSON file at the specified path\n",
    "with open(path + file_name, 'w') as json_file:\n",
    "    json.dump(metadata, json_file, indent=4)\n",
    "\n",
    "print(f\"The Metadata has been saved to {file_name}.\")"
   ]
  },
  {
   "cell_type": "markdown",
   "id": "ea3aa3b7",
   "metadata": {},
   "source": [
    "&copy; 2024 Carlos de Manuel & Carlos Sáez - Universitat Politècnica de València 2024\n"
   ]
  }
 ],
 "metadata": {
  "kernelspec": {
   "display_name": "Python 3 (ipykernel)",
   "language": "python",
   "name": "python3"
  },
  "language_info": {
   "codemirror_mode": {
    "name": "ipython",
    "version": 3
   },
   "file_extension": ".py",
   "mimetype": "text/x-python",
   "name": "python",
   "nbconvert_exporter": "python",
   "pygments_lexer": "ipython3",
   "version": "3.12.1"
  }
 },
 "nbformat": 4,
 "nbformat_minor": 5
}
