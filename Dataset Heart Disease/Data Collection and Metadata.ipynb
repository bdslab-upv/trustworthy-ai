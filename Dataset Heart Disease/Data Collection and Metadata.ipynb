{
 "cells": [
  {
   "cell_type": "markdown",
   "id": "e33a8cf0",
   "metadata": {},
   "source": [
    "# TRUSTWORTHY AI: Data Collection and Metadata\n",
    "\n",
    "#### Script to fit the data into the TAI \n",
    "\n",
    "The aim of this script is to prepare the necessary metadata and, in a greater manner, to simplify the dataset \"Heart Disease\" in order to adapt it to the study of a trustworthy AI."
   ]
  },
  {
   "cell_type": "markdown",
   "id": "47ca883b-c148-4773-ab57-920e09593c26",
   "metadata": {},
   "source": [
    "We start by preparing the working environment. Import all the necessary libraries."
   ]
  },
  {
   "cell_type": "code",
   "execution_count": 1,
   "id": "36cbaa8b-f302-45b8-85d7-37b984388af9",
   "metadata": {},
   "outputs": [],
   "source": [
    "import pandas as pd\n",
    "import numpy as np"
   ]
  },
  {
   "cell_type": "markdown",
   "id": "d86d9337",
   "metadata": {},
   "source": [
    "To simplify the study, we will make certain assumptions."
   ]
  },
  {
   "cell_type": "code",
   "execution_count": 2,
   "id": "df8bf98c",
   "metadata": {},
   "outputs": [
    {
     "data": {
      "text/html": [
       "<div>\n",
       "<style scoped>\n",
       "    .dataframe tbody tr th:only-of-type {\n",
       "        vertical-align: middle;\n",
       "    }\n",
       "\n",
       "    .dataframe tbody tr th {\n",
       "        vertical-align: top;\n",
       "    }\n",
       "\n",
       "    .dataframe thead th {\n",
       "        text-align: right;\n",
       "    }\n",
       "</style>\n",
       "<table border=\"1\" class=\"dataframe\">\n",
       "  <thead>\n",
       "    <tr style=\"text-align: right;\">\n",
       "      <th></th>\n",
       "      <th>age</th>\n",
       "      <th>sex</th>\n",
       "      <th>chest pain type</th>\n",
       "      <th>resting bp s</th>\n",
       "      <th>cholesterol</th>\n",
       "      <th>fasting blood sugar</th>\n",
       "      <th>resting ecg</th>\n",
       "      <th>max heart rate</th>\n",
       "      <th>exercise angina</th>\n",
       "      <th>oldpeak</th>\n",
       "      <th>ST slope</th>\n",
       "      <th>target</th>\n",
       "    </tr>\n",
       "  </thead>\n",
       "  <tbody>\n",
       "    <tr>\n",
       "      <th>0</th>\n",
       "      <td>40</td>\n",
       "      <td>1</td>\n",
       "      <td>2</td>\n",
       "      <td>140</td>\n",
       "      <td>289</td>\n",
       "      <td>0</td>\n",
       "      <td>0</td>\n",
       "      <td>172</td>\n",
       "      <td>0</td>\n",
       "      <td>0.0</td>\n",
       "      <td>1</td>\n",
       "      <td>0</td>\n",
       "    </tr>\n",
       "    <tr>\n",
       "      <th>1</th>\n",
       "      <td>49</td>\n",
       "      <td>0</td>\n",
       "      <td>3</td>\n",
       "      <td>160</td>\n",
       "      <td>180</td>\n",
       "      <td>0</td>\n",
       "      <td>0</td>\n",
       "      <td>156</td>\n",
       "      <td>0</td>\n",
       "      <td>1.0</td>\n",
       "      <td>2</td>\n",
       "      <td>1</td>\n",
       "    </tr>\n",
       "    <tr>\n",
       "      <th>2</th>\n",
       "      <td>37</td>\n",
       "      <td>1</td>\n",
       "      <td>2</td>\n",
       "      <td>130</td>\n",
       "      <td>283</td>\n",
       "      <td>0</td>\n",
       "      <td>1</td>\n",
       "      <td>98</td>\n",
       "      <td>0</td>\n",
       "      <td>0.0</td>\n",
       "      <td>1</td>\n",
       "      <td>0</td>\n",
       "    </tr>\n",
       "    <tr>\n",
       "      <th>3</th>\n",
       "      <td>48</td>\n",
       "      <td>0</td>\n",
       "      <td>4</td>\n",
       "      <td>138</td>\n",
       "      <td>214</td>\n",
       "      <td>0</td>\n",
       "      <td>0</td>\n",
       "      <td>108</td>\n",
       "      <td>1</td>\n",
       "      <td>1.5</td>\n",
       "      <td>2</td>\n",
       "      <td>1</td>\n",
       "    </tr>\n",
       "    <tr>\n",
       "      <th>4</th>\n",
       "      <td>54</td>\n",
       "      <td>1</td>\n",
       "      <td>3</td>\n",
       "      <td>150</td>\n",
       "      <td>195</td>\n",
       "      <td>0</td>\n",
       "      <td>0</td>\n",
       "      <td>122</td>\n",
       "      <td>0</td>\n",
       "      <td>0.0</td>\n",
       "      <td>1</td>\n",
       "      <td>0</td>\n",
       "    </tr>\n",
       "  </tbody>\n",
       "</table>\n",
       "</div>"
      ],
      "text/plain": [
       "   age  sex  chest pain type  resting bp s  cholesterol  fasting blood sugar  \\\n",
       "0   40    1                2           140          289                    0   \n",
       "1   49    0                3           160          180                    0   \n",
       "2   37    1                2           130          283                    0   \n",
       "3   48    0                4           138          214                    0   \n",
       "4   54    1                3           150          195                    0   \n",
       "\n",
       "   resting ecg  max heart rate  exercise angina  oldpeak  ST slope  target  \n",
       "0            0             172                0      0.0         1       0  \n",
       "1            0             156                0      1.0         2       1  \n",
       "2            1              98                0      0.0         1       0  \n",
       "3            0             108                1      1.5         2       1  \n",
       "4            0             122                0      0.0         1       0  "
      ]
     },
     "execution_count": 2,
     "metadata": {},
     "output_type": "execute_result"
    }
   ],
   "source": [
    "# Load the diabetes dataset\n",
    "path = 'C:\\\\Users\\\\carlo\\\\OneDrive - UPV\\\\ESCRITORIO CARLOS\\\\UPV\\\\BECA COLABORACIÓN\\\\Datasets\\\\Heart Disease\\\\' \n",
    "file_name = 'heart_statlog_cleveland_hungary_final.csv'\n",
    "data = pd.read_csv(path+file_name)\n",
    "\n",
    "data.head()"
   ]
  },
  {
   "cell_type": "markdown",
   "id": "b40136d1",
   "metadata": {},
   "source": [
    "To clarify the features, we will map the categories of each nominal variable and transform them into their string traductions. We want the data raw so that we can choose the most appropriate encoding method."
   ]
  },
  {
   "cell_type": "code",
   "execution_count": 3,
   "id": "93a136c5",
   "metadata": {},
   "outputs": [
    {
     "name": "stdout",
     "output_type": "stream",
     "text": [
      "sex\n",
      "1    909\n",
      "0    281\n",
      "Name: count, dtype: int64\n",
      "\n",
      " sex\n",
      "male      909\n",
      "female    281\n",
      "Name: count, dtype: int64\n"
     ]
    }
   ],
   "source": [
    "print(data['sex'].value_counts())\n",
    "\n",
    "map_dict_sex = {\n",
    "    0: 'female', \n",
    "    1: 'male',\n",
    "}\n",
    "\n",
    "data['sex'] = data['sex'].replace(map_dict_sex)\n",
    "\n",
    "print(\"\\n\",data['sex'].value_counts())"
   ]
  },
  {
   "cell_type": "code",
   "execution_count": 4,
   "id": "fbc117f3",
   "metadata": {},
   "outputs": [
    {
     "name": "stdout",
     "output_type": "stream",
     "text": [
      "chest pain type\n",
      "4    625\n",
      "3    283\n",
      "2    216\n",
      "1     66\n",
      "Name: count, dtype: int64\n",
      "\n",
      " chest pain type\n",
      "asymptomatic        625\n",
      "non-anginal pain    283\n",
      "atypical angina     216\n",
      "typical angina       66\n",
      "Name: count, dtype: int64\n"
     ]
    }
   ],
   "source": [
    "print(data['chest pain type'].value_counts())\n",
    "\n",
    "map_dict_pain = {\n",
    "    1: 'typical angina', \n",
    "    2: 'atypical angina',\n",
    "    3: 'non-anginal pain',\n",
    "    4: 'asymptomatic',\n",
    "}\n",
    "\n",
    "data['chest pain type'] = data['chest pain type'].replace(map_dict_pain)\n",
    "\n",
    "print(\"\\n\",data['chest pain type'].value_counts())"
   ]
  },
  {
   "cell_type": "code",
   "execution_count": 5,
   "metadata": {},
   "outputs": [
    {
     "name": "stdout",
     "output_type": "stream",
     "text": [
      "resting ecg\n",
      "0    684\n",
      "2    325\n",
      "1    181\n",
      "Name: count, dtype: int64\n",
      "\n",
      " resting ecg\n",
      "normal                          684\n",
      "left ventricular hypertrophy    325\n",
      "ST-T abnormality                181\n",
      "Name: count, dtype: int64\n"
     ]
    }
   ],
   "source": [
    "print(data['resting ecg'].value_counts())\n",
    "\n",
    "map_dict_ecg = {\n",
    "    0: 'normal', \n",
    "    1: 'ST-T abnormality', \n",
    "    2: 'left ventricular hypertrophy',\n",
    "}\n",
    "\n",
    "data['resting ecg'] = data['resting ecg'].replace(map_dict_ecg)\n",
    "\n",
    "print(\"\\n\",data['resting ecg'].value_counts())"
   ]
  },
  {
   "cell_type": "code",
   "execution_count": 6,
   "id": "ca659b25",
   "metadata": {},
   "outputs": [
    {
     "name": "stdout",
     "output_type": "stream",
     "text": [
      "ST slope\n",
      "2    582\n",
      "1    526\n",
      "3     81\n",
      "0      1\n",
      "Name: count, dtype: int64\n",
      "\n",
      " ST slope\n",
      "flat           582\n",
      "upsloping      526\n",
      "downsloping     81\n",
      "Name: count, dtype: int64\n"
     ]
    }
   ],
   "source": [
    "print(data['ST slope'].value_counts())\n",
    "\n",
    "data = data[data['ST slope'] != 0]\n",
    "map_dict_slope = {\n",
    "    1: 'upsloping', \n",
    "    2: 'flat', \n",
    "    3: 'downsloping',\n",
    "}\n",
    "\n",
    "data['ST slope'] = data['ST slope'].replace(map_dict_slope)\n",
    "\n",
    "print(\"\\n\",data['ST slope'].value_counts())"
   ]
  },
  {
   "cell_type": "code",
   "execution_count": 7,
   "id": "81b67e59",
   "metadata": {},
   "outputs": [
    {
     "name": "stdout",
     "output_type": "stream",
     "text": [
      "The data frame has been saved to dataset_heart_disease_full.xlsx.\n"
     ]
    }
   ],
   "source": [
    "file_name = 'dataset_heart_disease_full.xlsx'\n",
    "data.to_excel(path + file_name, index=False)\n",
    "\n",
    "print(f\"The data frame has been saved to {file_name}.\")"
   ]
  },
  {
   "cell_type": "code",
   "execution_count": 8,
   "id": "d0d0e78a-737d-4ab5-92c4-d30d43339643",
   "metadata": {},
   "outputs": [],
   "source": [
    "# Define Metadata\n",
    "dataset = data\n",
    "output = \"target\"\n",
    "positive_class = \"\"\n",
    "feat_id = \"\"\n",
    "feat_sensitive = [\"sex\"]\n",
    "feat_types = {\n",
    "    \"age\": \"numerical\",\n",
    "    \"sex\": \"categorical\",\n",
    "    \"chest pain type\": \"categorical\",\n",
    "    \"resting bp s\": \"numerical\",\n",
    "    \"cholesterol\": \"numerical\",\n",
    "    \"fasting blood sugar\": \"categorical\",\n",
    "    \"resting ecg\": \"categorical\",\n",
    "    \"max heart rate\":\"numerical\",\n",
    "    \"exercise angina\":\"categorical\",\n",
    "    \"oldpeak\":\"numerical\",\n",
    "    \"ST slope\":\"categorical\",\n",
    "}\n",
    "feat2balance = [\"sex\"]\n",
    "data_provenance = \"The dataset consists of 1190 records of patients from US, UK, Switzerland and Hungary.\""
   ]
  }
 ],
 "metadata": {
  "kernelspec": {
   "display_name": "Python 3 (ipykernel)",
   "language": "python",
   "name": "python3"
  },
  "language_info": {
   "codemirror_mode": {
    "name": "ipython",
    "version": 3
   },
   "file_extension": ".py",
   "mimetype": "text/x-python",
   "name": "python",
   "nbconvert_exporter": "python",
   "pygments_lexer": "ipython3",
   "version": "3.12.1"
  }
 },
 "nbformat": 4,
 "nbformat_minor": 5
}
